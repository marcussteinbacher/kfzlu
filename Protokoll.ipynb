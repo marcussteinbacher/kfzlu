{
 "cells": [
  {
   "cell_type": "markdown",
   "metadata": {},
   "source": [
    "# <center> KFZ Antriebe LU </center>\n",
    "<center> Marcus Steinbacher </center>\n",
    "<center> Gruppe 3</center>\n",
    "\n",
    "## Aufgabenstellung\n",
    "### Einleitung\n",
    "### Zweck der Messung\n",
    "\n",
    "## Prüfstandsaufbau\n",
    "\n",
    "## Messdurchführung\n",
    "### Aufgenommene Messungen\n",
    "### Mess- und Einstellprozedere\n",
    "### Randbedingungen\n",
    "\n",
    "## Ergebnisse"
   ]
  },
  {
   "cell_type": "code",
   "execution_count": 1,
   "metadata": {},
   "outputs": [],
   "source": [
    "import math as m\n",
    "import numpy as np\n",
    "import pandas as pd\n",
    "import matplotlib.pyplot as plt\n",
    "import seaborn as sns\n",
    "from ipywidgets import fixed, interactive_output\n",
    "import ipywidgets as widgets\n",
    "\n",
    "sns.set()"
   ]
  },
  {
   "cell_type": "markdown",
   "metadata": {},
   "source": [
    "Zur Auswertung wurden die Daten der fünf Messreihen in eine gemeinsame Tabelle überführt, sodass jede Zeile einem einzelnen Messpunkt mit folgenden features darstellt: <br>\n",
    "`Drehzahl` `Kurbelwinkel` `P_ZYL1` `P_ZYL2` `P_ZYL3` `Drehmoment` `Absolutverbrauch` `Angesaugte Luftmasse` `O2 roh` `CO roh` `CO2 roh` `NOx roh` `HC3 roh` `Lambda` `Temp Kühlm.E` `Temp Kühlm.A` `Temp Oel` `Temp Ansaugl. nach Verd.` `Temp Ansaugluft Saugrohr` `Temp Abgas vor Turbine` `P Saugrohr` `P Abg. vor Turb.` `ZZP` `Cycle` `Volumen` `P_ZYLm`."
   ]
  },
  {
   "cell_type": "code",
   "execution_count": 2,
   "metadata": {
    "scrolled": true
   },
   "outputs": [
    {
     "data": {
      "text/html": [
       "<div>\n",
       "<style scoped>\n",
       "    .dataframe tbody tr th:only-of-type {\n",
       "        vertical-align: middle;\n",
       "    }\n",
       "\n",
       "    .dataframe tbody tr th {\n",
       "        vertical-align: top;\n",
       "    }\n",
       "\n",
       "    .dataframe thead th {\n",
       "        text-align: right;\n",
       "    }\n",
       "</style>\n",
       "<table border=\"1\" class=\"dataframe\">\n",
       "  <thead>\n",
       "    <tr style=\"text-align: right;\">\n",
       "      <th></th>\n",
       "      <th>Drehzahl</th>\n",
       "      <th>Kurbelwinkel</th>\n",
       "      <th>P_ZYL1</th>\n",
       "      <th>P_ZYL2</th>\n",
       "      <th>P_ZYL3</th>\n",
       "      <th>Drehmoment</th>\n",
       "      <th>Absolutverbrauch</th>\n",
       "      <th>Angesaugte Luftmasse</th>\n",
       "      <th>O2 roh</th>\n",
       "      <th>CO roh</th>\n",
       "      <th>...</th>\n",
       "      <th>Lambda</th>\n",
       "      <th>Temp Kühlm.E</th>\n",
       "      <th>Temp Kühlm.A</th>\n",
       "      <th>Temp Oel</th>\n",
       "      <th>Temp Ansaugl. nach Verd.</th>\n",
       "      <th>Temp Ansaugluft Saugrohr</th>\n",
       "      <th>Temp Abgas vor Turbine</th>\n",
       "      <th>P Saugrohr</th>\n",
       "      <th>P Abg. vor Turb.</th>\n",
       "      <th>ZZP</th>\n",
       "    </tr>\n",
       "  </thead>\n",
       "  <tbody>\n",
       "    <tr>\n",
       "      <th>0</th>\n",
       "      <td>1600</td>\n",
       "      <td>-360</td>\n",
       "      <td>1.043</td>\n",
       "      <td>1.040</td>\n",
       "      <td>1.014</td>\n",
       "      <td>89.6</td>\n",
       "      <td>3.82</td>\n",
       "      <td>54.6789</td>\n",
       "      <td>0.807</td>\n",
       "      <td>0.71</td>\n",
       "      <td>...</td>\n",
       "      <td>0.999158</td>\n",
       "      <td>84</td>\n",
       "      <td>88</td>\n",
       "      <td>76.75</td>\n",
       "      <td>53</td>\n",
       "      <td>30.73</td>\n",
       "      <td>674.18</td>\n",
       "      <td>1077</td>\n",
       "      <td>1194.77</td>\n",
       "      <td>8</td>\n",
       "    </tr>\n",
       "    <tr>\n",
       "      <th>1</th>\n",
       "      <td>1600</td>\n",
       "      <td>-359</td>\n",
       "      <td>1.048</td>\n",
       "      <td>1.037</td>\n",
       "      <td>1.011</td>\n",
       "      <td>89.6</td>\n",
       "      <td>3.82</td>\n",
       "      <td>54.6789</td>\n",
       "      <td>0.807</td>\n",
       "      <td>0.71</td>\n",
       "      <td>...</td>\n",
       "      <td>0.999158</td>\n",
       "      <td>84</td>\n",
       "      <td>88</td>\n",
       "      <td>76.75</td>\n",
       "      <td>53</td>\n",
       "      <td>30.73</td>\n",
       "      <td>674.18</td>\n",
       "      <td>1077</td>\n",
       "      <td>1194.77</td>\n",
       "      <td>8</td>\n",
       "    </tr>\n",
       "    <tr>\n",
       "      <th>2</th>\n",
       "      <td>1600</td>\n",
       "      <td>-358</td>\n",
       "      <td>1.053</td>\n",
       "      <td>1.045</td>\n",
       "      <td>1.024</td>\n",
       "      <td>89.6</td>\n",
       "      <td>3.82</td>\n",
       "      <td>54.6789</td>\n",
       "      <td>0.807</td>\n",
       "      <td>0.71</td>\n",
       "      <td>...</td>\n",
       "      <td>0.999158</td>\n",
       "      <td>84</td>\n",
       "      <td>88</td>\n",
       "      <td>76.75</td>\n",
       "      <td>53</td>\n",
       "      <td>30.73</td>\n",
       "      <td>674.18</td>\n",
       "      <td>1077</td>\n",
       "      <td>1194.77</td>\n",
       "      <td>8</td>\n",
       "    </tr>\n",
       "    <tr>\n",
       "      <th>3</th>\n",
       "      <td>1600</td>\n",
       "      <td>-357</td>\n",
       "      <td>1.061</td>\n",
       "      <td>1.054</td>\n",
       "      <td>1.028</td>\n",
       "      <td>89.6</td>\n",
       "      <td>3.82</td>\n",
       "      <td>54.6789</td>\n",
       "      <td>0.807</td>\n",
       "      <td>0.71</td>\n",
       "      <td>...</td>\n",
       "      <td>0.999158</td>\n",
       "      <td>84</td>\n",
       "      <td>88</td>\n",
       "      <td>76.75</td>\n",
       "      <td>53</td>\n",
       "      <td>30.73</td>\n",
       "      <td>674.18</td>\n",
       "      <td>1077</td>\n",
       "      <td>1194.77</td>\n",
       "      <td>8</td>\n",
       "    </tr>\n",
       "    <tr>\n",
       "      <th>4</th>\n",
       "      <td>1600</td>\n",
       "      <td>-356</td>\n",
       "      <td>1.067</td>\n",
       "      <td>1.055</td>\n",
       "      <td>1.033</td>\n",
       "      <td>89.6</td>\n",
       "      <td>3.82</td>\n",
       "      <td>54.6789</td>\n",
       "      <td>0.807</td>\n",
       "      <td>0.71</td>\n",
       "      <td>...</td>\n",
       "      <td>0.999158</td>\n",
       "      <td>84</td>\n",
       "      <td>88</td>\n",
       "      <td>76.75</td>\n",
       "      <td>53</td>\n",
       "      <td>30.73</td>\n",
       "      <td>674.18</td>\n",
       "      <td>1077</td>\n",
       "      <td>1194.77</td>\n",
       "      <td>8</td>\n",
       "    </tr>\n",
       "  </tbody>\n",
       "</table>\n",
       "<p>5 rows × 23 columns</p>\n",
       "</div>"
      ],
      "text/plain": [
       "   Drehzahl  Kurbelwinkel  P_ZYL1  P_ZYL2  P_ZYL3  Drehmoment  \\\n",
       "0      1600          -360   1.043   1.040   1.014        89.6   \n",
       "1      1600          -359   1.048   1.037   1.011        89.6   \n",
       "2      1600          -358   1.053   1.045   1.024        89.6   \n",
       "3      1600          -357   1.061   1.054   1.028        89.6   \n",
       "4      1600          -356   1.067   1.055   1.033        89.6   \n",
       "\n",
       "   Absolutverbrauch  Angesaugte Luftmasse  O2 roh  CO roh  ...    Lambda  \\\n",
       "0              3.82               54.6789   0.807    0.71  ...  0.999158   \n",
       "1              3.82               54.6789   0.807    0.71  ...  0.999158   \n",
       "2              3.82               54.6789   0.807    0.71  ...  0.999158   \n",
       "3              3.82               54.6789   0.807    0.71  ...  0.999158   \n",
       "4              3.82               54.6789   0.807    0.71  ...  0.999158   \n",
       "\n",
       "   Temp Kühlm.E  Temp Kühlm.A  Temp Oel  Temp Ansaugl. nach Verd.  \\\n",
       "0            84            88     76.75                        53   \n",
       "1            84            88     76.75                        53   \n",
       "2            84            88     76.75                        53   \n",
       "3            84            88     76.75                        53   \n",
       "4            84            88     76.75                        53   \n",
       "\n",
       "   Temp Ansaugluft Saugrohr  Temp Abgas vor Turbine  P Saugrohr  \\\n",
       "0                     30.73                  674.18        1077   \n",
       "1                     30.73                  674.18        1077   \n",
       "2                     30.73                  674.18        1077   \n",
       "3                     30.73                  674.18        1077   \n",
       "4                     30.73                  674.18        1077   \n",
       "\n",
       "   P Abg. vor Turb.  ZZP  \n",
       "0           1194.77    8  \n",
       "1           1194.77    8  \n",
       "2           1194.77    8  \n",
       "3           1194.77    8  \n",
       "4           1194.77    8  \n",
       "\n",
       "[5 rows x 23 columns]"
      ]
     },
     "execution_count": 2,
     "metadata": {},
     "output_type": "execute_result"
    }
   ],
   "source": [
    "df = pd.read_csv(\"cyl_raw.csv\",delimiter=\";\")\n",
    "df.head()"
   ]
  },
  {
   "cell_type": "markdown",
   "metadata": {},
   "source": [
    "Um in der weiteren Auswertung die Messkurve der einzelnen Takte untersuchen zu können, wird das feature `Cycle` eingeführt, indem das Gesamtintervall -360° v.OT bis 360° n.OT in vier 180° Subintervalle zerlegt wird. Dabei erfolgt folgende zuordnung: <br>\n",
    "<br>\n",
    "$$ \\text{Ansaugen: } 0 \\text{ für } \\phi \\in -360° v.OT , -180° v.OT $$\n",
    "$$ \\text{Verdichten: } 1 \\text{ für } \\phi \\in -180° v.OT , -0° v.OT $$\n",
    "$$ \\text{Arbeiten: } 2 \\text{ für } \\phi \\in +0° n.OT , 180° n.OT $$\n",
    "$$ \\text{Ausstoßen: } 3 \\text{ für } \\phi \\in 180° n.OT , 360° n.OT $$"
   ]
  },
  {
   "cell_type": "code",
   "execution_count": 3,
   "metadata": {},
   "outputs": [],
   "source": [
    "# cycle identifizieren\n",
    "# 180°: Ansaugen, 180°: Verdichten,...\n",
    "d = {0:\"Ansaugen\",1:\"Verdichten\",2:\"Arbeiten\",3:\"Ausstossen\"}\n",
    "cycle = [0]*180 + [1]*180 + [2]*180 + [3]*180\n",
    "cycles = cycle*len(df[\"Drehzahl\"].unique())\n",
    "df[\"Cycle\"]  = cycles"
   ]
  },
  {
   "cell_type": "markdown",
   "metadata": {},
   "source": [
    "Das `Volumen` in Abhängigkeit des Winkels $\\phi$ berechnet sich folgendermaßen: <br>\n",
    "$$\n",
    "x(\\phi) =\n",
    "$$\n",
    "$$\n",
    "V(\\phi) = \\frac{}{}\n",
    "$$\n",
    "Daraus ergibt sich ein Hubvolumen $V_H$ von $V_H = V(180°) - V(0°) = (\\frac{b}{2})^2 * \\pi * h= 318090 mm³$ und ein Hubraum von $H = n_{zyl} * V_H = 954 ccm$."
   ]
  },
  {
   "cell_type": "code",
   "execution_count": 103,
   "metadata": {},
   "outputs": [
    {
     "name": "stdout",
     "output_type": "stream",
     "text": [
      "Hubvolumen: 318089.3977686201 mm³\n",
      "Hubram: 954.2681933058603 ccm\n"
     ]
    },
    {
     "data": {
      "image/png": "[encoded data removed]",
      "text/plain": [
       "<Figure size 432x288 with 1 Axes>"
      ]
     },
     "metadata": {},
     "output_type": "display_data"
    }
   ],
   "source": [
    "# volumen in abh. des winkels berechnen\n",
    "VH = (73/2)**2 * m.pi * 76 #mm³\n",
    "\n",
    "def volume(winkel, h=76,l=135,dea=-0.6,s=0,eps=10,b=73):\n",
    "    \"\"\"\n",
    "    params:\n",
    "        winkel: Kurbelwinkel [°]\n",
    "        h: Kolbenhub [mm]\n",
    "        l: Pleuellänge [mm]\n",
    "        dea: Deachsierung [mm]\n",
    "        s: Schränkung [mm]\n",
    "        eps: Verdichtungsverhältnis [1]\n",
    "        b: Bohrung [mm]\n",
    "    returns: \n",
    "        Volumen in Abh. von winkel [mm**3]\n",
    "    \"\"\"\n",
    "    v_hub = (b/2)**2 * m.pi * h #mm**3\n",
    "    x = h/2 * (1 - m.cos(m.radians(winkel))) + l * (1 - m.sqrt(1 - ((h*m.sin(m.radians(winkel)))/(2*l) - (dea-s)/l)**2))\n",
    "    v = v_hub/(eps-1) + b**2 *(m.pi/4) * x\n",
    "    return v\n",
    "\n",
    "df[\"Volumen\"] = df[\"Kurbelwinkel\"].map(volume)\n",
    "\n",
    "x = np.linspace(-360,360,720)\n",
    "y = list(map(lambda w:volume(w),x))\n",
    "\n",
    "plt.xlabel(\"Kurbelwinkel [°]\")\n",
    "plt.ylabel(\"Volumen [mm³]\")\n",
    "plt.title(\"Kolbenbewegung Volumenverlauf\")\n",
    "plt.plot(x,y)\n",
    "print(f\"Hubvolumen: {volume(180)-volume(0)} mm³\")\n",
    "print(f\"Hubram: {(volume(180)-volume(0))*3*10**(-3)} ccm\")"
   ]
  },
  {
   "cell_type": "markdown",
   "metadata": {},
   "source": [
    "Da es sich um eine 3-Zylinder Ottomotor handelt wird zunächst der mittlere Druck `P_ZYLm` für jeden Messpunkt als arithmetisches Mittel der Einzeldrücke in den jeweiligen Zylindern  gebildet: <br>\n",
    "$$\n",
    "p_{ZYLm} = \\frac{\\sum{p_{ZYL,i}}}{3}\n",
    "$$"
   ]
  },
  {
   "cell_type": "code",
   "execution_count": 5,
   "metadata": {},
   "outputs": [],
   "source": [
    "# Druck Mittelwert\n",
    "df[\"P_ZYLm\"] = df.loc[:,[\"P_ZYL1\",\"P_ZYL2\",\"P_ZYL3\"]].mean(axis=1)\n",
    "#df.head()"
   ]
  },
  {
   "cell_type": "markdown",
   "metadata": {},
   "source": [
    "### Druckverlauf\n",
    "Nachfolgende Abbildung zeigt den mit steigender `Drehzahl` bei Leistungskonstanter Fahrt zu erwartenden sinkenden mittleren Zylinderdruck `P_ZYLm` über dem `Kurbelwinkel`:"
   ]
  },
  {
   "cell_type": "code",
   "execution_count": 6,
   "metadata": {},
   "outputs": [
    {
     "data": {
      "image/png": "[encoded data removed]",
      "text/plain": [
       "<Figure size 1080x360 with 1 Axes>"
      ]
     },
     "metadata": {},
     "output_type": "display_data"
    }
   ],
   "source": [
    "#Druckverlauf alle Drehzahlen plotten\n",
    "fig, ax = plt.subplots(1,1,figsize=(15,5))\n",
    "for rpm in df[\"Drehzahl\"].unique():\n",
    "    df_rpm = df[df[\"Drehzahl\"]==rpm]\n",
    "    ax.plot(df_rpm[\"Kurbelwinkel\"],df_rpm[\"P_ZYLm\"],label=rpm)\n",
    "ax.set_title(\"Druckverlauf\")\n",
    "ax.set_xlabel(\"Kurbelwinkel [°]\")\n",
    "ax.set_ylabel(\"Druck [bar]\")\n",
    "plt.legend()\n",
    "plt.show()"
   ]
  },
  {
   "cell_type": "markdown",
   "metadata": {},
   "source": [
    "#### Maximaldruck\n",
    "Der Maximaldruck ist bei einer `Drehzahl` von 1600U/min beinahe doppelt so große wie bei der gemessenen Maximaldrehzahl 4600 U/min. Die Regressionsanalyse lässt einen linearen Trend erkennen."
   ]
  },
  {
   "cell_type": "code",
   "execution_count": 7,
   "metadata": {},
   "outputs": [
    {
     "data": {
      "image/png": "[encoded data removed]",
      "text/plain": [
       "<Figure size 720x252 with 2 Axes>"
      ]
     },
     "metadata": {},
     "output_type": "display_data"
    }
   ],
   "source": [
    "#bar  plot max druck\n",
    "# verlauf max-druck über drehzahl (trendkurve)\n",
    "\n",
    "df_max = df.groupby(by=\"Drehzahl\",as_index=False).max()\n",
    "\n",
    "fig, axs = plt.subplots(nrows=1,ncols=2,figsize=(10,3.5),sharey=True)\n",
    "\n",
    "sns.barplot(data=df_max,x=\"Drehzahl\",y=\"P_ZYLm\",ax=axs[0])\n",
    "axs[0].set_ylabel(\"Maximaldruck [bar]\")\n",
    "axs[0].set_title(\"Maximaldruck\")\n",
    "sns.regplot(data=df_max,x=\"Drehzahl\",y=\"P_ZYLm\",ax=axs[1],order=1)\n",
    "axs[1].set_xlim(left=1200,right=4800)\n",
    "axs[1].set_title(\"Regressionsanalyse Maximaldruck-Drehzahl\")\n",
    "axs[1].set_ylabel(\"\")\n",
    "\n",
    "plt.show()"
   ]
  },
  {
   "cell_type": "markdown",
   "metadata": {},
   "source": [
    "#### Druckverlauf und ZZP\n",
    "Eine genauere Untersuchung unter Einbeziehung des Zündzeitpunkts `ZZP`lässt eine Unstetigkeit des Druckverlaufs für 1600 U/min um den ZZP erkennen: "
   ]
  },
  {
   "cell_type": "code",
   "execution_count": 8,
   "metadata": {},
   "outputs": [
    {
     "data": {
      "application/vnd.jupyter.widget-view+json": {
       "model_id": "e7e1f17d69c34468bb12fe4c40046d2f",
       "version_major": 2,
       "version_minor": 0
      },
      "text/plain": [
       "Dropdown(index=1, options=(1600, 2100, 2600, 3600, 4600), value=2100)"
      ]
     },
     "metadata": {},
     "output_type": "display_data"
    },
    {
     "data": {
      "application/vnd.jupyter.widget-view+json": {
       "model_id": "6c5a02e2d1964aa8921d324e7e9876b8",
       "version_major": 2,
       "version_minor": 0
      },
      "text/plain": [
       "Output()"
      ]
     },
     "metadata": {},
     "output_type": "display_data"
    }
   ],
   "source": [
    "#Druck verlauf über Winkel mit ZZP\n",
    "def ZZP(rpm,log=False,ax=None,over=\"volume\"):\n",
    "    '''\n",
    "    params:\n",
    "        rpm: Drehzahl in [1600,2100,2600,3600,4600]\n",
    "        log: bool, True: y-Achse log skala\n",
    "        ax: default: None, erstellt fig,ax. Sonst existiedendes plt.axes, um darauf zu plotten\n",
    "        over: x-achse über der zu plotten ist in [\"volume\",\"angle\"]\n",
    "    '''\n",
    "    df_rpm = df[df[\"Drehzahl\"]==rpm]\n",
    "    ZZP = df_rpm[\"ZZP\"].unique()[0]\n",
    "    \n",
    "    \n",
    "    if not ax:\n",
    "        fig,ax = plt.subplots()\n",
    "        \n",
    "    if over == \"volume\":\n",
    "        x = volume(-ZZP)\n",
    "    elif over == \"angle\":\n",
    "        x = -ZZP\n",
    "    ax.scatter(x,df_rpm[(df_rpm[\"Cycle\"]==1) & (df_rpm[\"Kurbelwinkel\"]==-ZZP)][\"P_ZYLm\"],color=\"red\",label=\"ZZP\")\n",
    "\n",
    "def p_angle(rpm,log=False,ax=None):\n",
    "    '''\n",
    "    params:\n",
    "        rpm: Drehzahl\n",
    "        ax: existierendes plt.axes object. falls None wird eines erstellt\n",
    "    '''\n",
    "    df_rpm = df[df[\"Drehzahl\"]==rpm]\n",
    "    \n",
    "    if not ax:\n",
    "        fig, ax = plt.subplots()\n",
    "    \n",
    "    ax.plot(df_rpm[\"Kurbelwinkel\"],df_rpm[\"P_ZYLm\"])\n",
    "    ax.set_xlabel(\"Kurbelwinkel [°]\")\n",
    "    ax.set_ylabel(\"Druck [bar]\")\n",
    "    ax.set_title(f\"Druckverlauf {rpm} U/min\")\n",
    "    \n",
    "    if log:\n",
    "        ax.set_yscale(\"log\")\n",
    "        ax.set_ylabel(\"log Druck [bar]\")\n",
    "\n",
    "        \n",
    "rpm_dropd = widgets.Dropdown(options = df[\"Drehzahl\"].unique(),value=2100)\n",
    "\n",
    "def plot1(rpm,**kwargs):\n",
    "    fig, ax = plt.subplots(figsize=(10,5))\n",
    "    p_angle(rpm,ax=ax)\n",
    "    ZZP(rpm,ax=ax,over=\"angle\")\n",
    "    plt.legend()\n",
    "\n",
    "out1 = interactive_output(plot1,{\"rpm\":rpm_dropd})\n",
    "display(rpm_dropd,out1)"
   ]
  },
  {
   "cell_type": "markdown",
   "metadata": {},
   "source": [
    "TODO Deutung Unstetigkeit bei 1600 und ZZP <br>\n",
    "### p-V-Diagramm\n",
    "Bei genauerer Betrachtung des p-V- Diagramms zeigt sich für die Ladungswechselschleife, dass bei einer `Drehzahl` von 1600 U/min die Ansaug-Kurve über der Ausstoß-Kurve liegt. Bei steigender Drehzahl kehrt sich dieses Verhältnis um. <br>\n",
    "**TODO** Begründung Turbo? Arbeit positiv bei steigender Drehzahl? <br>\n",
    "Weiters lassen sich v.a. bei einer logarithmischen Skalierung des Drucks auf der Ordinate bei steigenden Drehzahlen  zunehmende Schwankungen des Druckverlaufs im unteren Druckniveau erkennen. "
   ]
  },
  {
   "cell_type": "code",
   "execution_count": 9,
   "metadata": {},
   "outputs": [
    {
     "data": {
      "application/vnd.jupyter.widget-view+json": {
       "model_id": "78ba8f56a3bd4999bc709bc985772115",
       "version_major": 2,
       "version_minor": 0
      },
      "text/plain": [
       "HBox(children=(Dropdown(index=1, options=(1600, 2100, 2600, 3600, 4600), value=2100), Checkbox(value=True, des…"
      ]
     },
     "metadata": {},
     "output_type": "display_data"
    },
    {
     "data": {
      "application/vnd.jupyter.widget-view+json": {
       "model_id": "20f67010faa44e7a83a94c5a0548bccc",
       "version_major": 2,
       "version_minor": 0
      },
      "text/plain": [
       "Output()"
      ]
     },
     "metadata": {},
     "output_type": "display_data"
    }
   ],
   "source": [
    "#p-V Diagramm mit Zyklen (Ansaugen, Kompression, ...)\n",
    "def pV(rpm,log=False,ax=None):\n",
    "    '''\n",
    "    Plotted ein p-V-Digramm für die angegebene Drehzahl {rpm}\n",
    "    params:\n",
    "        rpm:\n",
    "        log:\n",
    "        ax:\n",
    "    '''\n",
    "    d = {0:\"Ansaugen\",1:\"Verdichten\",2:\"Arbeiten\",3:\"Ausstossen\"}\n",
    "    df_rpm = df[df[\"Drehzahl\"]==rpm]\n",
    "    \n",
    "    if not ax:\n",
    "        fig, ax = plt.subplots(1,1,figsize=(15,7.5))\n",
    "    \n",
    "    for cyc in df_rpm[\"Cycle\"].unique():\n",
    "        df_rpm_cyc = df_rpm[df_rpm[\"Cycle\"]==cyc]\n",
    "        ax.plot(df_rpm_cyc[\"Volumen\"],df_rpm_cyc[\"P_ZYLm\"],label=d[cyc])\n",
    "\n",
    "    ax.set_xlabel(\"Volumen [mm³]\")\n",
    "    ax.set_ylabel(\"Druck [bar]\")\n",
    "    if log:\n",
    "        ax.set_yscale(\"log\")\n",
    "        ax.set_ylabel(\"log Druck [bar]\")\n",
    "    \n",
    "    plt.title(f\"p-V Diagramm {rpm} U/min\")\n",
    "    \n",
    "    \n",
    "log_checkb = widgets.Checkbox(value=True,description=\"log Skala\")\n",
    "\n",
    "def plot2(rpm,log=None,**kwargs):\n",
    "    \n",
    "    fig,ax = plt.subplots(figsize=(10,5))\n",
    "    pV(rpm,log=log,ax=ax)\n",
    "    ZZP(rpm,log=log,ax=ax)\n",
    "\n",
    "    plt.legend()\n",
    "    \n",
    "out2 = interactive_output(plot2,{\"rpm\":rpm_dropd,\"log\":log_checkb})\n",
    "\n",
    "display(widgets.HBox([rpm_dropd,log_checkb]),out2)"
   ]
  },
  {
   "cell_type": "markdown",
   "metadata": {},
   "source": [
    "### Hochdruck- und Ladungswechselschleife\n",
    "Zur Ermittlung des indizierten Mitteldrucks $p_{mi}$ ist es zunächst notwendig, die Hochdruck- und Ladungswechselschleifen im p-V-Diagramm zu berechnen. <br>\n",
    "Der Vorgang soll am Beispiel des obigen p-V-Diagramms bei einer `Drehzahl` von 4600 U/min beschrieben werden:<br> \n",
    "Die Ladungswechselschleife (ND) ist nach unten von der Ansaugkurve (blau) begrenzt. Nach oben begrenzt sie das **Minimum** von Verdichtungskurve (orange) und Ausstoßverlauf (rot). <br>\n",
    "Analoges gilt für die HD Schleife: Sie ist nach oben durch den Druckverlauf des Arbeitstaktes (grün) und nach unten durch das **Maximum** von Verdichtungs- und Arbeitskurve. "
   ]
  },
  {
   "cell_type": "code",
   "execution_count": 96,
   "metadata": {},
   "outputs": [
    {
     "data": {
      "application/vnd.jupyter.widget-view+json": {
       "model_id": "15209a2fc62f4c75a11afb00c12617d5",
       "version_major": 2,
       "version_minor": 0
      },
      "text/plain": [
       "HBox(children=(Dropdown(index=2, options=(1600, 2100, 2600, 3600, 4600), value=2600), Checkbox(value=True, des…"
      ]
     },
     "metadata": {},
     "output_type": "display_data"
    },
    {
     "data": {
      "application/vnd.jupyter.widget-view+json": {
       "model_id": "921e447f742e4fbd98f6cb510502f1b6",
       "version_major": 2,
       "version_minor": 0
      },
      "text/plain": [
       "Output()"
      ]
     },
     "metadata": {},
     "output_type": "display_data"
    }
   ],
   "source": [
    "# Arbeit HD, ND Schleife\n",
    "# HD -> cycle 2 - max(cycle1,cycle3)\n",
    "# ND -> min(cycle3,cycle1) - cycle0\n",
    "def HD(rpm,log=False,ax=None,plot=True):\n",
    "    '''\n",
    "    Berechnet die Hochdruckschleife als Kombination der Drucklinien der einzelnen Zyklen folgenderweise:\n",
    "    HD nach oben durch Arbeits-Druckverlauf (Cycle=2) begrenzt und nach unten durch das Maximum von Ausstoß- (Cycle=3) \n",
    "    und Verdichtungs-verlauf (Cycle=1).\n",
    "    ND nach unten durch Ansaug-verlauf (Cycle=0) begrenzt und nach oben durch das Minimum von Ausstoß (3) und\n",
    "    Verdichtungs-verlauf (1).\n",
    "    \n",
    "    params:\n",
    "        rpm:\n",
    "        log:\n",
    "        ax:\n",
    "        plot: default True. False falls nur die HD Arbeit zurückgegeben werden soll.\n",
    "    returns:\n",
    "        HD Arbeit\n",
    "    '''\n",
    "    df_rpm = df[df[\"Drehzahl\"]==rpm]\n",
    "    HD = df_rpm[df_rpm[\"Cycle\"]==2].loc[:,[\"Volumen\",\"P_ZYLm\"]].sort_values(by=\"Volumen\")\n",
    "    HD.rename(columns={\"P_ZYLm\":\"upper\"},inplace=True)\n",
    "    cyc1 = df_rpm[df_rpm[\"Cycle\"]==1].loc[:,[\"Volumen\",\"P_ZYLm\"]].sort_values(by=\"Volumen\")\n",
    "    cyc3 = df_rpm[df_rpm[\"Cycle\"]==3].loc[:,[\"Volumen\",\"P_ZYLm\"]].sort_values(by=\"Volumen\")\n",
    "    HD_lower = [max(a,b) for a,b in zip(cyc1[\"P_ZYLm\"].values,cyc3[\"P_ZYLm\"].values)]\n",
    "    HD[\"lower\"] = HD_lower\n",
    "    \n",
    "    if plot:\n",
    "        if not ax:\n",
    "            fig, ax = plt.subplots(1,1,figsize=(15,7.5))\n",
    "    \n",
    "        ax.plot(HD[\"Volumen\"],HD[\"upper\"],label=\"HD upper\")\n",
    "        ax.plot(HD[\"Volumen\"],HD[\"lower\"],label=\"HD lower\")\n",
    "        \n",
    "        #ax.set_title(f\"Hochdruckschleife {rpm} U/min\")\n",
    "        ax.set_xlabel(\"Volumen [mm³]\")\n",
    "        ax.set_ylabel(\"Druck [bar]\")\n",
    "        if log:\n",
    "            plt.yscale(\"log\")\n",
    "            ax.set_ylabel(\"log Druck [bar]\")\n",
    "    \n",
    "        ax.fill_between(HD[\"Volumen\"],HD[\"lower\"],HD[\"upper\"],label=\"W_HD\",alpha=0.5)\n",
    "    \n",
    "    w_upper = np.trapz(HD[\"upper\"],x=HD[\"Volumen\"]) #bar*mm³\n",
    "    w_lower = np.trapz(HD[\"lower\"],x=HD[\"Volumen\"])\n",
    "    return (w_upper - w_lower) #bar*mm³\n",
    "\n",
    "def ND(rpm,log=False,ax=None,plot=True):\n",
    "    '''\n",
    "    Berechnet die Niederdruckschleife. Doc analog HD\n",
    "    \n",
    "    params:\n",
    "        rpm:\n",
    "        log:\n",
    "        ax:\n",
    "        plot:\n",
    "    returns:\n",
    "        ND Arbeit\n",
    "    '''\n",
    "    df_rpm = df[df[\"Drehzahl\"]==rpm]\n",
    "    ND = df_rpm[df_rpm[\"Cycle\"]==0].loc[:,[\"Volumen\",\"P_ZYLm\"]].sort_values(by=\"Volumen\")\n",
    "    ND.rename(columns={\"P_ZYLm\":\"lower\"},inplace=True)\n",
    "    cyc1 = df_rpm[df_rpm[\"Cycle\"]==1].loc[:,[\"Volumen\",\"P_ZYLm\"]].sort_values(by=\"Volumen\")\n",
    "    cyc3 = df_rpm[df_rpm[\"Cycle\"]==3].loc[:,[\"Volumen\",\"P_ZYLm\"]].sort_values(by=\"Volumen\")\n",
    "    ND_upper = [min(a,b) for a,b in zip(cyc1[\"P_ZYLm\"].values,cyc3[\"P_ZYLm\"].values)]\n",
    "    ND[\"upper\"] = ND_upper\n",
    "    \n",
    "    if plot:\n",
    "        if not ax:\n",
    "            fig,ax = plt.subplots()\n",
    "            \n",
    "        ax.plot(ND[\"Volumen\"],ND[\"upper\"],label=\"ND upper\")\n",
    "        ax.plot(ND[\"Volumen\"],ND[\"lower\"],label=\"ND lower\")\n",
    "        #ax.set_title(f\"Hochdruckschleife {rpm} U/min\")\n",
    "        ax.set_xlabel(\"Volumen [mm³]\")\n",
    "        ax.set_ylabel(\"Druck [bar]\")\n",
    "        if log:\n",
    "            plt.yscale(\"log\")\n",
    "            ax.set_ylabel(\"log Druck [bar]\")\n",
    "    \n",
    "        ax.fill_between(ND[\"Volumen\"],ND[\"lower\"],ND[\"upper\"],label=\"W_ND\",alpha=0.5)\n",
    "    \n",
    "    w_upper = np.trapz(ND[\"upper\"],x=ND[\"Volumen\"]) #bar*mm³\n",
    "    w_lower = np.trapz(ND[\"lower\"],x=ND[\"Volumen\"])\n",
    "    return (w_upper - w_lower) #bar*mm³\n",
    "\n",
    "\n",
    "def plot3(rpm,log=None,**kwargs):\n",
    "    fig,ax = plt.subplots(figsize=(10,6.5))\n",
    "    HD(rpm,log=log,ax=ax)\n",
    "    ND(rpm,log=log,ax=ax)\n",
    "    ZZP(rpm,log=log,ax=ax)\n",
    "    plt.title(\"p-V Diagramm HD, ND\")\n",
    "    plt.legend()\n",
    "\n",
    "out3 = interactive_output(plot3,{\"rpm\":rpm_dropd,\"log\":log_checkb})\n",
    "display(widgets.HBox([rpm_dropd,log_checkb]),out3)"
   ]
  },
  {
   "cell_type": "markdown",
   "metadata": {},
   "source": [
    "#### Indizierter Mitteldruck\n",
    "Es zeigt sich, dass die Arbeit $W_{ND,1600}$ der ND Schleife bei 1600 U/min negativ ist. Für größere Drehzahlen nimmt $W_{ND}$ positive Vorzeichen an.<br> \n",
    "Nachfolgende Abbildung zeigt den indizierten Mitteldruck $p_{mi,HD} = \\frac{W_{HD}}{V_H}$ und $p_{mi,ND}=\\frac{W_{ND}}{V_H}$ für verschiedene Drehzahlen sowie den resutierenden indizierten Mitteldruck $p_{mi} = p_{mi,HD} + p_{mi,ND}$:"
   ]
  },
  {
   "cell_type": "code",
   "execution_count": 148,
   "metadata": {},
   "outputs": [
    {
     "data": {
      "text/html": [
       "<div>\n",
       "<style scoped>\n",
       "    .dataframe tbody tr th:only-of-type {\n",
       "        vertical-align: middle;\n",
       "    }\n",
       "\n",
       "    .dataframe tbody tr th {\n",
       "        vertical-align: top;\n",
       "    }\n",
       "\n",
       "    .dataframe thead th {\n",
       "        text-align: right;\n",
       "    }\n",
       "</style>\n",
       "<table border=\"1\" class=\"dataframe\">\n",
       "  <thead>\n",
       "    <tr style=\"text-align: right;\">\n",
       "      <th></th>\n",
       "      <th>Drehzahl</th>\n",
       "      <th>pmiHD</th>\n",
       "      <th>pmiND</th>\n",
       "      <th>pmi</th>\n",
       "    </tr>\n",
       "  </thead>\n",
       "  <tbody>\n",
       "    <tr>\n",
       "      <th>0</th>\n",
       "      <td>1600</td>\n",
       "      <td>12.029887</td>\n",
       "      <td>-0.018560</td>\n",
       "      <td>12.011327</td>\n",
       "    </tr>\n",
       "    <tr>\n",
       "      <th>1</th>\n",
       "      <td>2100</td>\n",
       "      <td>9.516066</td>\n",
       "      <td>0.206778</td>\n",
       "      <td>9.722844</td>\n",
       "    </tr>\n",
       "    <tr>\n",
       "      <th>2</th>\n",
       "      <td>2600</td>\n",
       "      <td>8.140450</td>\n",
       "      <td>0.353091</td>\n",
       "      <td>8.493540</td>\n",
       "    </tr>\n",
       "    <tr>\n",
       "      <th>3</th>\n",
       "      <td>3600</td>\n",
       "      <td>6.593034</td>\n",
       "      <td>0.469924</td>\n",
       "      <td>7.062959</td>\n",
       "    </tr>\n",
       "    <tr>\n",
       "      <th>4</th>\n",
       "      <td>4600</td>\n",
       "      <td>5.914980</td>\n",
       "      <td>0.597398</td>\n",
       "      <td>6.512377</td>\n",
       "    </tr>\n",
       "  </tbody>\n",
       "</table>\n",
       "</div>"
      ],
      "text/plain": [
       "   Drehzahl      pmiHD     pmiND        pmi\n",
       "0      1600  12.029887 -0.018560  12.011327\n",
       "1      2100   9.516066  0.206778   9.722844\n",
       "2      2600   8.140450  0.353091   8.493540\n",
       "3      3600   6.593034  0.469924   7.062959\n",
       "4      4600   5.914980  0.597398   6.512377"
      ]
     },
     "execution_count": 148,
     "metadata": {},
     "output_type": "execute_result"
    },
    {
     "data": {
      "image/png": "[encoded data removed]",
      "text/plain": [
       "<Figure size 720x288 with 2 Axes>"
      ]
     },
     "metadata": {},
     "output_type": "display_data"
    }
   ],
   "source": [
    "#pmiHD = WHD/VH\n",
    "\n",
    "RPMs = df[\"Drehzahl\"].unique()\n",
    "pmiHD = [HD(rpm,plot=False)/VH for rpm in RPMs] #bar\n",
    "pmiND = [ND(rpm,plot=False)/VH for rpm in RPMs]\n",
    "df_pm = pd.DataFrame({\"Drehzahl\":RPMs,\"pmiHD\":pmiHD,\"pmiND\":pmiND})\n",
    "df_pm[\"pmi\"] = df_pm[\"pmiHD\"]+df_pm[\"pmiND\"]\n",
    "fig,axs = plt.subplots(1,2,figsize=(10,4),sharey=True)\n",
    "\n",
    "df_pm.loc[:,[\"Drehzahl\",\"pmiHD\",\"pmiND\"]].plot(kind=\"bar\",x=\"Drehzahl\",stacked=True,ax=axs[0])\n",
    "df_pm.plot(kind=\"line\",x=\"Drehzahl\",ax=axs[1],style=[\"-o\"]*3)\n",
    "axs[0].set_ylabel(\"Druck [bar]\")\n",
    "\n",
    "df_pm"
   ]
  },
  {
   "cell_type": "markdown",
   "metadata": {},
   "source": [
    "Es ist zu erkennen, dass mit steigender Drehzahl der Anteil von $p_{mi,ND}$ an $p_{mi}$ zunimmt.\n",
    "\n",
    "#### Effektiver Mittteldruck\n",
    "Der effektive Mitteldruck $p_{me}$ errechnet sich aus den an der Welle bei den verschiedenen Drehmometen abgenommenen Drehmomenten: <br>\n",
    "$$\n",
    "p_{me,rpm} = \\frac{2*2*\\pi*M_{rpm}}{V_H}\n",
    "$$"
   ]
  },
  {
   "cell_type": "code",
   "execution_count": 150,
   "metadata": {},
   "outputs": [
    {
     "data": {
      "text/html": [
       "<div>\n",
       "<style scoped>\n",
       "    .dataframe tbody tr th:only-of-type {\n",
       "        vertical-align: middle;\n",
       "    }\n",
       "\n",
       "    .dataframe tbody tr th {\n",
       "        vertical-align: top;\n",
       "    }\n",
       "\n",
       "    .dataframe thead th {\n",
       "        text-align: right;\n",
       "    }\n",
       "</style>\n",
       "<table border=\"1\" class=\"dataframe\">\n",
       "  <thead>\n",
       "    <tr style=\"text-align: right;\">\n",
       "      <th></th>\n",
       "      <th>Drehzahl</th>\n",
       "      <th>pmiHD</th>\n",
       "      <th>pmiND</th>\n",
       "      <th>pmi</th>\n",
       "      <th>pme</th>\n",
       "    </tr>\n",
       "  </thead>\n",
       "  <tbody>\n",
       "    <tr>\n",
       "      <th>0</th>\n",
       "      <td>1600</td>\n",
       "      <td>12.029887</td>\n",
       "      <td>-0.018560</td>\n",
       "      <td>12.011327</td>\n",
       "      <td>3.539718</td>\n",
       "    </tr>\n",
       "    <tr>\n",
       "      <th>1</th>\n",
       "      <td>2100</td>\n",
       "      <td>9.516066</td>\n",
       "      <td>0.206778</td>\n",
       "      <td>9.722844</td>\n",
       "      <td>2.698245</td>\n",
       "    </tr>\n",
       "    <tr>\n",
       "      <th>2</th>\n",
       "      <td>2600</td>\n",
       "      <td>8.140450</td>\n",
       "      <td>0.353091</td>\n",
       "      <td>8.493540</td>\n",
       "      <td>2.180719</td>\n",
       "    </tr>\n",
       "    <tr>\n",
       "      <th>3</th>\n",
       "      <td>3600</td>\n",
       "      <td>6.593034</td>\n",
       "      <td>0.469924</td>\n",
       "      <td>7.062959</td>\n",
       "      <td>1.572330</td>\n",
       "    </tr>\n",
       "    <tr>\n",
       "      <th>4</th>\n",
       "      <td>4600</td>\n",
       "      <td>5.914980</td>\n",
       "      <td>0.597398</td>\n",
       "      <td>6.512377</td>\n",
       "      <td>1.228630</td>\n",
       "    </tr>\n",
       "  </tbody>\n",
       "</table>\n",
       "</div>"
      ],
      "text/plain": [
       "   Drehzahl      pmiHD     pmiND        pmi       pme\n",
       "0      1600  12.029887 -0.018560  12.011327  3.539718\n",
       "1      2100   9.516066  0.206778   9.722844  2.698245\n",
       "2      2600   8.140450  0.353091   8.493540  2.180719\n",
       "3      3600   6.593034  0.469924   7.062959  1.572330\n",
       "4      4600   5.914980  0.597398   6.512377  1.228630"
      ]
     },
     "execution_count": 150,
     "metadata": {},
     "output_type": "execute_result"
    }
   ],
   "source": [
    "def pme(rpm):\n",
    "    M_rpm = df[df[\"Drehzahl\"]==rpm][\"Drehmoment\"].unique()[0] #Nm\n",
    "    return 4*m.pi*M_rpm*10**(3) /VH #bar\n",
    "\n",
    "pme(1600)\n",
    "df_pm[\"pme\"] = [pme(rpm) for rpm in RPMs]\n",
    "df_pm"
   ]
  },
  {
   "cell_type": "markdown",
   "metadata": {},
   "source": [
    "#### Reibmitteldruck\n",
    "Der Reibmitteldruck berechnet mittels der Differenz von indiziertem Mitteldruck und effektivem Mitteldruck. <br>\n",
    "$$p_{mr} = p_{mi} - p_{mr}$$"
   ]
  },
  {
   "cell_type": "code",
   "execution_count": 156,
   "metadata": {},
   "outputs": [
    {
     "data": {
      "text/html": [
       "<div>\n",
       "<style scoped>\n",
       "    .dataframe tbody tr th:only-of-type {\n",
       "        vertical-align: middle;\n",
       "    }\n",
       "\n",
       "    .dataframe tbody tr th {\n",
       "        vertical-align: top;\n",
       "    }\n",
       "\n",
       "    .dataframe thead th {\n",
       "        text-align: right;\n",
       "    }\n",
       "</style>\n",
       "<table border=\"1\" class=\"dataframe\">\n",
       "  <thead>\n",
       "    <tr style=\"text-align: right;\">\n",
       "      <th></th>\n",
       "      <th>Drehzahl</th>\n",
       "      <th>pmiHD</th>\n",
       "      <th>pmiND</th>\n",
       "      <th>pmi</th>\n",
       "      <th>pme</th>\n",
       "      <th>pmr</th>\n",
       "    </tr>\n",
       "  </thead>\n",
       "  <tbody>\n",
       "    <tr>\n",
       "      <th>0</th>\n",
       "      <td>1600</td>\n",
       "      <td>12.029887</td>\n",
       "      <td>-0.018560</td>\n",
       "      <td>12.011327</td>\n",
       "      <td>3.539718</td>\n",
       "      <td>8.471608</td>\n",
       "    </tr>\n",
       "    <tr>\n",
       "      <th>1</th>\n",
       "      <td>2100</td>\n",
       "      <td>9.516066</td>\n",
       "      <td>0.206778</td>\n",
       "      <td>9.722844</td>\n",
       "      <td>2.698245</td>\n",
       "      <td>7.024599</td>\n",
       "    </tr>\n",
       "    <tr>\n",
       "      <th>2</th>\n",
       "      <td>2600</td>\n",
       "      <td>8.140450</td>\n",
       "      <td>0.353091</td>\n",
       "      <td>8.493540</td>\n",
       "      <td>2.180719</td>\n",
       "      <td>6.312821</td>\n",
       "    </tr>\n",
       "    <tr>\n",
       "      <th>3</th>\n",
       "      <td>3600</td>\n",
       "      <td>6.593034</td>\n",
       "      <td>0.469924</td>\n",
       "      <td>7.062959</td>\n",
       "      <td>1.572330</td>\n",
       "      <td>5.490629</td>\n",
       "    </tr>\n",
       "    <tr>\n",
       "      <th>4</th>\n",
       "      <td>4600</td>\n",
       "      <td>5.914980</td>\n",
       "      <td>0.597398</td>\n",
       "      <td>6.512377</td>\n",
       "      <td>1.228630</td>\n",
       "      <td>5.283748</td>\n",
       "    </tr>\n",
       "  </tbody>\n",
       "</table>\n",
       "</div>"
      ],
      "text/plain": [
       "   Drehzahl      pmiHD     pmiND        pmi       pme       pmr\n",
       "0      1600  12.029887 -0.018560  12.011327  3.539718  8.471608\n",
       "1      2100   9.516066  0.206778   9.722844  2.698245  7.024599\n",
       "2      2600   8.140450  0.353091   8.493540  2.180719  6.312821\n",
       "3      3600   6.593034  0.469924   7.062959  1.572330  5.490629\n",
       "4      4600   5.914980  0.597398   6.512377  1.228630  5.283748"
      ]
     },
     "execution_count": 156,
     "metadata": {},
     "output_type": "execute_result"
    },
    {
     "data": {
      "image/png": "[encoded data removed]",
      "text/plain": [
       "<Figure size 432x288 with 1 Axes>"
      ]
     },
     "metadata": {},
     "output_type": "display_data"
    }
   ],
   "source": [
    "df_pm[\"pmr\"] = df_pm[\"pmi\"] - df_pm[\"pme\"]\n",
    "df_pm.plot(kind=\"bar\",x=\"Drehzahl\",y=[\"pmi\",\"pme\",\"pmr\"])\n",
    "df_pm"
   ]
  },
  {
   "cell_type": "markdown",
   "metadata": {},
   "source": [
    "### Zyklische Größen\n",
    "#### Brennstoffenergie $Q_{Brst/Zykl}$\n"
   ]
  },
  {
   "cell_type": "code",
   "execution_count": 11,
   "metadata": {},
   "outputs": [],
   "source": [
    "#Zusammenfassung aller Ergebnisse in Ergebnistabelle -> Korrelationsanalyse\n",
    "#zB weitere Größen:  Verbrauch-Drehzahl,ZZP-Drehzahl (ZZP wandert nach vorne)"
   ]
  },
  {
   "cell_type": "code",
   "execution_count": null,
   "metadata": {},
   "outputs": [],
   "source": []
  },
  {
   "cell_type": "code",
   "execution_count": null,
   "metadata": {},
   "outputs": [],
   "source": []
  },
  {
   "cell_type": "code",
   "execution_count": 12,
   "metadata": {},
   "outputs": [
    {
     "data": {
      "text/plain": [
       "<AxesSubplot:xlabel='Volumen'>"
      ]
     },
     "execution_count": 12,
     "metadata": {},
     "output_type": "execute_result"
    },
    {
     "data": {
      "image/png": "[encoded data removed]",
      "text/plain": [
       "<Figure size 432x288 with 1 Axes>"
      ]
     },
     "metadata": {},
     "output_type": "display_data"
    },
    {
     "data": {
      "image/png": "[encoded data removed]",
      "text/plain": [
       "<Figure size 432x288 with 1 Axes>"
      ]
     },
     "metadata": {},
     "output_type": "display_data"
    }
   ],
   "source": [
    "df[df[\"Drehzahl\"]==2100].plot(\"Volumen\",\"P Saugrohr\")\n",
    "df[df[\"Drehzahl\"]==4600].plot(\"Volumen\",\"P Saugrohr\")"
   ]
  },
  {
   "cell_type": "code",
   "execution_count": 13,
   "metadata": {},
   "outputs": [
    {
     "data": {
      "text/plain": [
       "(array([ 1,  1,  0, -1,  0,  0, -1,  0]),\n",
       " array([ 0,  0,  1,  0, -1, -1,  0,  1]),\n",
       " array([ 1,  1,  0, -2,  0,  0,  0,  0]))"
      ]
     },
     "execution_count": 13,
     "metadata": {},
     "output_type": "execute_result"
    },
    {
     "data": {
      "image/png": "[encoded data removed]",
      "text/plain": [
       "<Figure size 432x288 with 1 Axes>"
      ]
     },
     "metadata": {},
     "output_type": "display_data"
    }
   ],
   "source": [
    "def sign(a):\n",
    "    return np.array(list(map(lambda x: 1.0 if x >= 0 else -1.0 ,a)))\n",
    "\n",
    "def lineintegrate(y,x):\n",
    "    dx = np.diff(x)\n",
    "    dy = np.diff(y)\n",
    "    vz = sign(dx*dy)\n",
    "    s = vz*np.sqrt(dx**2 + dy**2)\n",
    "    \n",
    "    if (x[0],y[0]) == (x[-1],y[-1]):\n",
    "        return s*y[:-1]\n",
    "\n",
    "x = np.array([0,1,2,2,1,1,1,0,0])\n",
    "y = np.array([1,1,1,2,2,1,0,0,1])\n",
    "\n",
    "A = np.trapz(y,x=x)\n",
    "\n",
    "plt.plot(x,y)\n",
    "\n",
    "dx = np.diff(x)\n",
    "dy = np.diff(y)\n",
    "s = np.sqrt(dx**2 + dy**2)\n",
    "v = np.diff(x)*y[:-1]\n",
    "dx,dy,v"
   ]
  },
  {
   "cell_type": "code",
   "execution_count": null,
   "metadata": {},
   "outputs": [],
   "source": []
  },
  {
   "cell_type": "code",
   "execution_count": null,
   "metadata": {},
   "outputs": [],
   "source": []
  }
 ],
 "metadata": {
  "kernelspec": {
   "display_name": "Python 3",
   "language": "python",
   "name": "python3"
  },
  "language_info": {
   "codemirror_mode": {
    "name": "ipython",
    "version": 3
   },
   "file_extension": ".py",
   "mimetype": "text/x-python",
   "name": "python",
   "nbconvert_exporter": "python",
   "pygments_lexer": "ipython3",
   "version": "3.8.5"
  }
 },
 "nbformat": 4,
 "nbformat_minor": 4
}
